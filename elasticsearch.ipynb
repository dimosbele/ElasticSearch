{
 "cells": [
  {
   "cell_type": "code",
   "execution_count": 1,
   "metadata": {},
   "outputs": [],
   "source": [
    "#import the libraries\n",
    "\n",
    "# https://pypi.org/project/elasticsearch/\n",
    "# !pip install elasticsearch\n",
    "from elasticsearch import Elasticsearch\n",
    "\n",
    "# https://pypi.org/project/python-greeklish/\n",
    "# !pip install python-greeklish\n",
    "from greeklish.converter import Converter\n",
    "\n",
    "import pandas as pd"
   ]
  },
  {
   "cell_type": "markdown",
   "metadata": {},
   "source": [
    "## -- Read the the dataset with the products and their details"
   ]
  },
  {
   "cell_type": "code",
   "execution_count": 2,
   "metadata": {},
   "outputs": [],
   "source": [
    "# read the file with the products and their details\n",
    "df_products = pd.read_pickle('data/df_products_details.pkl')"
   ]
  },
  {
   "cell_type": "code",
   "execution_count": 3,
   "metadata": {},
   "outputs": [
    {
     "data": {
      "text/html": [
       "<div>\n",
       "<style scoped>\n",
       "    .dataframe tbody tr th:only-of-type {\n",
       "        vertical-align: middle;\n",
       "    }\n",
       "\n",
       "    .dataframe tbody tr th {\n",
       "        vertical-align: top;\n",
       "    }\n",
       "\n",
       "    .dataframe thead th {\n",
       "        text-align: right;\n",
       "    }\n",
       "</style>\n",
       "<table border=\"1\" class=\"dataframe\">\n",
       "  <thead>\n",
       "    <tr style=\"text-align: right;\">\n",
       "      <th></th>\n",
       "      <th>Code</th>\n",
       "      <th>Product_name</th>\n",
       "      <th>Category</th>\n",
       "      <th>SubCategory</th>\n",
       "      <th>url</th>\n",
       "      <th>Price</th>\n",
       "    </tr>\n",
       "  </thead>\n",
       "  <tbody>\n",
       "    <tr>\n",
       "      <th>344</th>\n",
       "      <td>345</td>\n",
       "      <td>Nokia 5.1 Plus 32GB Dual</td>\n",
       "      <td>Mobiles</td>\n",
       "      <td>Mobile_phone</td>\n",
       "      <td>https://www.bestprice.gr/item/2155455212/nokia...</td>\n",
       "      <td>130.00</td>\n",
       "    </tr>\n",
       "    <tr>\n",
       "      <th>969</th>\n",
       "      <td>12947</td>\n",
       "      <td>Συμβατή μπαταρία high quality 5200mAh 10.8-11....</td>\n",
       "      <td>Laptop_pc</td>\n",
       "      <td>Laptop_battery</td>\n",
       "      <td>https://www.bestprice.gr/item/18357051/symbath...</td>\n",
       "      <td>49.99</td>\n",
       "    </tr>\n",
       "    <tr>\n",
       "      <th>1514</th>\n",
       "      <td>1515</td>\n",
       "      <td>Hisense F23 16GB</td>\n",
       "      <td>Mobiles</td>\n",
       "      <td>Mobile_phone</td>\n",
       "      <td>https://www.bestprice.gr/item/2155254136/hisen...</td>\n",
       "      <td>124.99</td>\n",
       "    </tr>\n",
       "    <tr>\n",
       "      <th>1586</th>\n",
       "      <td>6446</td>\n",
       "      <td>Zealot S27 Blue</td>\n",
       "      <td>Mobiles</td>\n",
       "      <td>Portable_speaker</td>\n",
       "      <td>https://www.bestprice.gr/item/2155686647/zealo...</td>\n",
       "      <td>85.24</td>\n",
       "    </tr>\n",
       "    <tr>\n",
       "      <th>323</th>\n",
       "      <td>30982</td>\n",
       "      <td>2-Power 10.8V 2200mAh Lithium-Ion (Li-Ion)(DRN...</td>\n",
       "      <td>Photograph</td>\n",
       "      <td>Photograph_battery</td>\n",
       "      <td>https://www.bestprice.gr/item/44051110/2-power...</td>\n",
       "      <td>28.05</td>\n",
       "    </tr>\n",
       "  </tbody>\n",
       "</table>\n",
       "</div>"
      ],
      "text/plain": [
       "       Code                                       Product_name    Category  \\\n",
       "344     345                           Nokia 5.1 Plus 32GB Dual     Mobiles   \n",
       "969   12947  Συμβατή μπαταρία high quality 5200mAh 10.8-11....   Laptop_pc   \n",
       "1514   1515                                   Hisense F23 16GB     Mobiles   \n",
       "1586   6446                                    Zealot S27 Blue     Mobiles   \n",
       "323   30982  2-Power 10.8V 2200mAh Lithium-Ion (Li-Ion)(DRN...  Photograph   \n",
       "\n",
       "             SubCategory                                                url  \\\n",
       "344         Mobile_phone  https://www.bestprice.gr/item/2155455212/nokia...   \n",
       "969       Laptop_battery  https://www.bestprice.gr/item/18357051/symbath...   \n",
       "1514        Mobile_phone  https://www.bestprice.gr/item/2155254136/hisen...   \n",
       "1586    Portable_speaker  https://www.bestprice.gr/item/2155686647/zealo...   \n",
       "323   Photograph_battery  https://www.bestprice.gr/item/44051110/2-power...   \n",
       "\n",
       "       Price  \n",
       "344   130.00  \n",
       "969    49.99  \n",
       "1514  124.99  \n",
       "1586   85.24  \n",
       "323    28.05  "
      ]
     },
     "execution_count": 3,
     "metadata": {},
     "output_type": "execute_result"
    }
   ],
   "source": [
    "# prin 5 random products\n",
    "df_products.sample(5)"
   ]
  },
  {
   "cell_type": "code",
   "execution_count": 4,
   "metadata": {},
   "outputs": [
    {
     "name": "stdout",
     "output_type": "stream",
     "text": [
      "There are 32324 products in total. So, we can imagine that that we have an eshop with 32324 products.\n"
     ]
    }
   ],
   "source": [
    "print('There are', len(df_products), 'products in total. So, we can imagine that that we have an eshop with', len(df_products), 'products.')"
   ]
  },
  {
   "cell_type": "markdown",
   "metadata": {},
   "source": [
    "## -- Preprocess the dataset"
   ]
  },
  {
   "cell_type": "markdown",
   "metadata": {},
   "source": [
    "Some of the following preprocessing steps may not be necessary for another dataset"
   ]
  },
  {
   "cell_type": "markdown",
   "metadata": {},
   "source": [
    "The dataset contains some product names written in greek. So, will translate them to greeklish (https://en.wikipedia.org/wiki/Greeklish)."
   ]
  },
  {
   "cell_type": "code",
   "execution_count": 5,
   "metadata": {},
   "outputs": [],
   "source": [
    "# create a column with the Product_name having changed some letters based on letters_mapping_dict\n",
    "# we can add more letters in the following dictionary\n",
    "letters_mapping_dict = {'ω':'ο'}\n",
    "df_products['Product_name2'] = df_products.apply(lambda x: x[\"Product_name\"].lower().translate(str.maketrans(letters_mapping_dict)), axis=1)\n",
    "\n",
    "# create an object for greeklish translation\n",
    "conv = Converter(max_expansions=1)\n",
    "# use the above to create a column with the greeklish title\n",
    "df_products['Product_name_eng'] = df_products.apply(lambda x: conv.convert(x[\"Product_name2\"])[0], axis=1)\n",
    "\n",
    "# keep only specific columns\n",
    "df_products = df_products[['Code', 'Product_name', 'Product_name_eng', 'Category', 'SubCategory', 'url', 'Price']]\n",
    "\n",
    "# drop rows with nans if any\n",
    "df_products = df_products.dropna()"
   ]
  },
  {
   "cell_type": "code",
   "execution_count": 6,
   "metadata": {},
   "outputs": [
    {
     "data": {
      "text/html": [
       "<div>\n",
       "<style scoped>\n",
       "    .dataframe tbody tr th:only-of-type {\n",
       "        vertical-align: middle;\n",
       "    }\n",
       "\n",
       "    .dataframe tbody tr th {\n",
       "        vertical-align: top;\n",
       "    }\n",
       "\n",
       "    .dataframe thead th {\n",
       "        text-align: right;\n",
       "    }\n",
       "</style>\n",
       "<table border=\"1\" class=\"dataframe\">\n",
       "  <thead>\n",
       "    <tr style=\"text-align: right;\">\n",
       "      <th></th>\n",
       "      <th>Code</th>\n",
       "      <th>Product_name</th>\n",
       "      <th>Product_name_eng</th>\n",
       "      <th>Category</th>\n",
       "      <th>SubCategory</th>\n",
       "      <th>url</th>\n",
       "      <th>Price</th>\n",
       "    </tr>\n",
       "  </thead>\n",
       "  <tbody>\n",
       "    <tr>\n",
       "      <th>26</th>\n",
       "      <td>19355</td>\n",
       "      <td>LG 27UD58P</td>\n",
       "      <td>lg 27ud58p</td>\n",
       "      <td>Desktop_pc</td>\n",
       "      <td>Desktop_monitors</td>\n",
       "      <td>https://www.bestprice.gr/item/2154959851/lg-27...</td>\n",
       "      <td>301.75</td>\n",
       "    </tr>\n",
       "    <tr>\n",
       "      <th>1834</th>\n",
       "      <td>21163</td>\n",
       "      <td>iiyama S3820HSB-B1</td>\n",
       "      <td>iiyama s3820hsb-b1</td>\n",
       "      <td>Desktop_pc</td>\n",
       "      <td>Desktop_monitors</td>\n",
       "      <td>https://www.bestprice.gr/item/2155566685/iiyam...</td>\n",
       "      <td>0.00</td>\n",
       "    </tr>\n",
       "    <tr>\n",
       "      <th>879</th>\n",
       "      <td>5739</td>\n",
       "      <td>Platinet PMG14 Blue</td>\n",
       "      <td>platinet pmg14 blue</td>\n",
       "      <td>Mobiles</td>\n",
       "      <td>Portable_speaker</td>\n",
       "      <td>https://www.bestprice.gr/item/2155661568/plati...</td>\n",
       "      <td>23.90</td>\n",
       "    </tr>\n",
       "    <tr>\n",
       "      <th>898</th>\n",
       "      <td>4027</td>\n",
       "      <td>Hoco J38 Comprehensive White 10000mAh</td>\n",
       "      <td>hoco j38 comprehensive white 10000mah</td>\n",
       "      <td>Mobiles</td>\n",
       "      <td>Power_bank</td>\n",
       "      <td>https://www.bestprice.gr/item/2155676838/hoco-...</td>\n",
       "      <td>18.00</td>\n",
       "    </tr>\n",
       "    <tr>\n",
       "      <th>554</th>\n",
       "      <td>555</td>\n",
       "      <td>OnePlus 6 256GB Dual</td>\n",
       "      <td>oneplus 6 256gb dual</td>\n",
       "      <td>Mobiles</td>\n",
       "      <td>Mobile_phone</td>\n",
       "      <td>https://www.bestprice.gr/item/2155346731/onepl...</td>\n",
       "      <td>550.00</td>\n",
       "    </tr>\n",
       "  </tbody>\n",
       "</table>\n",
       "</div>"
      ],
      "text/plain": [
       "       Code                           Product_name  \\\n",
       "26    19355                             LG 27UD58P   \n",
       "1834  21163                     iiyama S3820HSB-B1   \n",
       "879    5739                    Platinet PMG14 Blue   \n",
       "898    4027  Hoco J38 Comprehensive White 10000mAh   \n",
       "554     555                   OnePlus 6 256GB Dual   \n",
       "\n",
       "                           Product_name_eng    Category       SubCategory  \\\n",
       "26                               lg 27ud58p  Desktop_pc  Desktop_monitors   \n",
       "1834                     iiyama s3820hsb-b1  Desktop_pc  Desktop_monitors   \n",
       "879                     platinet pmg14 blue     Mobiles  Portable_speaker   \n",
       "898   hoco j38 comprehensive white 10000mah     Mobiles        Power_bank   \n",
       "554                    oneplus 6 256gb dual     Mobiles      Mobile_phone   \n",
       "\n",
       "                                                    url   Price  \n",
       "26    https://www.bestprice.gr/item/2154959851/lg-27...  301.75  \n",
       "1834  https://www.bestprice.gr/item/2155566685/iiyam...    0.00  \n",
       "879   https://www.bestprice.gr/item/2155661568/plati...   23.90  \n",
       "898   https://www.bestprice.gr/item/2155676838/hoco-...   18.00  \n",
       "554   https://www.bestprice.gr/item/2155346731/onepl...  550.00  "
      ]
     },
     "execution_count": 6,
     "metadata": {},
     "output_type": "execute_result"
    }
   ],
   "source": [
    "# prin 5 random products after preprocessing\n",
    "df_products.sample(5)"
   ]
  },
  {
   "cell_type": "markdown",
   "metadata": {},
   "source": [
    "## -- Create ElasticSearch index"
   ]
  },
  {
   "cell_type": "code",
   "execution_count": 7,
   "metadata": {},
   "outputs": [],
   "source": [
    "# create a list of dicts with the product details\n",
    "# this list will be used in order to add products to the elastic search index\n",
    "products_dicts = []\n",
    "tmp = df_products.apply(lambda x: products_dicts.append({'title_eng':x['Product_name_eng'],\n",
    "                                                         'title_init':x['Product_name'],\n",
    "                                                         'url':x['url'],\n",
    "                                                         'Price':x['Price'],\n",
    "                                                         'Category':x['Category'],\n",
    "                                                         'SubCategory':x['SubCategory'],\n",
    "                                                         'Code':x['Code'],\n",
    "                                                  }), axis=1)"
   ]
  },
  {
   "cell_type": "code",
   "execution_count": 8,
   "metadata": {},
   "outputs": [
    {
     "name": "stdout",
     "output_type": "stream",
     "text": [
      "- Connected\n"
     ]
    }
   ],
   "source": [
    "# connect to elasticsearch / create an Elasticsearch object\n",
    "def connect_elasticsearch():\n",
    "    _es = None\n",
    "    #_es = Elasticsearch([{'host': 'localhost', 'port': 9200}])\n",
    "    _es = Elasticsearch()\n",
    "    if _es.ping():\n",
    "        print('- Connected')\n",
    "    else:\n",
    "        print('- Problem with the connection')\n",
    "    return _es\n",
    "\n",
    "es = connect_elasticsearch()"
   ]
  },
  {
   "cell_type": "code",
   "execution_count": 9,
   "metadata": {},
   "outputs": [
    {
     "name": "stdout",
     "output_type": "stream",
     "text": [
      "Created Index\n"
     ]
    }
   ],
   "source": [
    "# create the index 'my_new_index'\n",
    "def create_index(es_object, index_name='my_new_index'):\n",
    "\n",
    "    # https://www.elastic.co/guide/en/elasticsearch/reference/current/analysis-synonym-tokenfilter.html\n",
    "    settings = {\n",
    "                \"settings\": {\n",
    "                    \"index\" : {\n",
    "                        \"analysis\" : {\n",
    "                            \"analyzer\" : {\n",
    "                                \"my_new_analyzer\" : {\n",
    "                                    \"tokenizer\" : \"standard\",\n",
    "                                    \"filter\" : [\"my_stop\", \"synonym\"]\n",
    "                                }\n",
    "                            },\n",
    "                            \"filter\" : {\n",
    "                                \"my_stop\": {\n",
    "                                    \"type\" : \"stop\",\n",
    "                                    \"stopwords\": [\"to\", \"kai\"] # we add more stopwords here\n",
    "                                },\n",
    "                                \"synonym\" : {\n",
    "                                    \"type\" : \"synonym\",\n",
    "                                    \"lenient\": True,\n",
    "                                    \"synonyms\" : [\"mobilephone, cellphone => smartphone\"] # we add more synonyms here\n",
    "                                }\n",
    "                            }\n",
    "                        }\n",
    "                    }\n",
    "                }\n",
    "            }\n",
    "    \n",
    "    try:\n",
    "        #if not es_object.indices.exists(index_name):\n",
    "        # Ignore 400 means to ignore \"Index Already Exist\" error.\n",
    "        es_object.indices.create(index=index_name, ignore=400, body=settings)\n",
    "        print('Created Index')\n",
    "    except Exception as ex:\n",
    "        print('Error: ', str(ex))\n",
    "\n",
    "create_index(es, 'my_new_index')"
   ]
  },
  {
   "cell_type": "code",
   "execution_count": 10,
   "metadata": {},
   "outputs": [
    {
     "data": {
      "text/plain": [
       "True"
      ]
     },
     "execution_count": 10,
     "metadata": {},
     "output_type": "execute_result"
    }
   ],
   "source": [
    "# check if the index exists\n",
    "es.indices.exists('my_new_index')"
   ]
  },
  {
   "cell_type": "code",
   "execution_count": 11,
   "metadata": {},
   "outputs": [],
   "source": [
    "# delete the index if you want\n",
    "#es.indices.delete(index='my_new_index', ignore=[400, 404])"
   ]
  },
  {
   "cell_type": "code",
   "execution_count": 12,
   "metadata": {},
   "outputs": [
    {
     "data": {
      "text/plain": [
       "{'my_new_index': {'mappings': {}}}"
      ]
     },
     "execution_count": 12,
     "metadata": {},
     "output_type": "execute_result"
    }
   ],
   "source": [
    "# check the mappings if specified\n",
    "es.indices.get_mapping(index='my_new_index')"
   ]
  },
  {
   "cell_type": "code",
   "execution_count": 13,
   "metadata": {},
   "outputs": [],
   "source": [
    "# add products to the index\n",
    "i = 1\n",
    "for product in products_dicts[0:]:\n",
    "    es.index(index='my_new_index',\n",
    "             doc_type='product',\n",
    "             id=i,\n",
    "             body=product,\n",
    "            )\n",
    "    i += 1"
   ]
  },
  {
   "cell_type": "code",
   "execution_count": 14,
   "metadata": {},
   "outputs": [],
   "source": [
    "# delete a product from the index based on the id (id=1 means the first product)\n",
    "# es.delete(index='my_new_index', doc_type='product', id=1)"
   ]
  },
  {
   "cell_type": "code",
   "execution_count": 15,
   "metadata": {},
   "outputs": [
    {
     "data": {
      "text/plain": [
       "{'_id': '2',\n",
       " '_index': 'my_new_index',\n",
       " '_primary_term': 1,\n",
       " '_seq_no': 1,\n",
       " '_source': {'Category': 'Mobiles',\n",
       "  'Code': 2,\n",
       "  'Price': 279.0,\n",
       "  'SubCategory': 'Mobile_phone',\n",
       "  'title_eng': 'samsung galaxy a70 6gb 128gb dual',\n",
       "  'title_init': 'Samsung Galaxy A70 6GB 128GB Dual',\n",
       "  'url': 'https://www.bestprice.gr/item/2155621215/samsung-galaxy-a70-6gb-128gb-dual.html'},\n",
       " '_type': 'product',\n",
       " '_version': 1,\n",
       " 'found': True}"
      ]
     },
     "execution_count": 15,
     "metadata": {},
     "output_type": "execute_result"
    }
   ],
   "source": [
    "# get a document based on its id\n",
    "res=es.get(index='my_new_index',doc_type='product',id=2)\n",
    "res"
   ]
  },
  {
   "cell_type": "markdown",
   "metadata": {},
   "source": [
    "## --  Create the funtion that searches the index based on a query "
   ]
  },
  {
   "cell_type": "code",
   "execution_count": 16,
   "metadata": {},
   "outputs": [],
   "source": [
    "# https://www.elastic.co/guide/en/elasticsearch/reference/current/index.html\n",
    "# https://www.elastic.co/guide/en/elasticsearch/reference/current/query-dsl-match-query.html"
   ]
  },
  {
   "cell_type": "code",
   "execution_count": 17,
   "metadata": {},
   "outputs": [],
   "source": [
    "def get_results(query, category):\n",
    "    \n",
    "    if query.isdigit():\n",
    "        print('- You are searching a product code')\n",
    "        df_product = df_products[df_products.Code==int(query)]\n",
    "        \n",
    "        if len(df_product)>0:\n",
    "            print('-- The product code was found')\n",
    "            results = [{'_score': 100,\n",
    "                             '_source': {'Category': df_product.iloc[0]['Category'],\n",
    "                                          'Code': df_product.iloc[0]['Code'],\n",
    "                                          'Price': df_product.iloc[0]['Price'],\n",
    "                                          'title_eng': df_product.iloc[0]['Product_name_eng'],\n",
    "                                          'title_init': df_product.iloc[0]['Product_name'],\n",
    "                                          'url': df_product.iloc[0]['url']\n",
    "                                        }}]\n",
    "            return results\n",
    "            \n",
    "    \n",
    "    # convert the query to lowercase and some letters based on letters_mapping_dict\n",
    "    query = query.lower().translate(str.maketrans(letters_mapping_dict))\n",
    "    # convert it to greeklish\n",
    "    query = conv.convert(query)[0]\n",
    "    print(query)\n",
    "                                    \n",
    "    # search_flag defines whether the results are procuced by elasticsearch or based on popularity\n",
    "    search_flag = 0 \n",
    "    \n",
    "    # search the index based on the query    \n",
    "    if category=='All':\n",
    "        # search the index based on the query\n",
    "        results = es.search(index='my_new_index', body = { \"from\" : 0, \"size\" : 1000,\n",
    "            'query':{\n",
    "                'bool': {\n",
    "                  'must': [\n",
    "                                {'match':{'title_eng':{\"query\" : query,\n",
    "                                                       \"fuzziness\": \"AUTO:3,5\", # https://www.elastic.co/guide/en/elasticsearch/reference/current/common-options.html#fuzziness\n",
    "                                                       #\"fuzziness\": 2,\n",
    "                                                       #\"fuzzy_transpositions\":False,\n",
    "                                                        \"analyzer\": \"my_new_analyzer\"\n",
    "\n",
    "                                                      }}},\n",
    "                           ],\n",
    "\n",
    "                    \n",
    "                }\n",
    "            }\n",
    "        },                  \n",
    "                           )\n",
    "    else:\n",
    "        results = es.search(index='my_new_index', body = { \"from\" : 0, \"size\" : 1000,\n",
    "            'query':{\n",
    "                'bool': {\n",
    "                  'must': [\n",
    "                                {'match':{'title_eng':{\"query\" : query,\n",
    "                                                       \"fuzziness\": \"AUTO:3,5\", # https://www.elastic.co/guide/en/elasticsearch/reference/current/common-options.html#fuzziness\n",
    "                                                       #\"fuzziness\": 2,\n",
    "                                                       #\"fuzzy_transpositions\":False,\n",
    "                                                        \"analyzer\": \"my_new_analyzer\"\n",
    "\n",
    "                                                      }}},\n",
    "                                {'match': {'Category': category}},\n",
    "                           ],\n",
    "                    \n",
    "                }\n",
    "            }\n",
    "        },                  \n",
    "                           )\n",
    "\n",
    "    # list of results\n",
    "    results = results['hits']['hits'][0:]\n",
    "    \n",
    "    # if the search query doesnt have resutls in the specified category, then check in all categories\n",
    "    if (len(results)==0) & (category!='All'):\n",
    "        print(' - Searching regardless the specified category')\n",
    "        results = es.search(index='my_new_index', body = { \"from\" : 0, \"size\" : 1000,\n",
    "            'query':{\n",
    "                'bool': {\n",
    "                  'must': [\n",
    "                                {'match':{'title_eng':{\"query\" : query,\n",
    "                                                       \"fuzziness\": \"AUTO:3,5\", # https://www.elastic.co/guide/en/elasticsearch/reference/current/common-options.html#fuzziness\n",
    "                                                       #\"fuzziness\": 2,\n",
    "                                                       #\"fuzzy_transpositions\":False,\n",
    "                                                        \"analyzer\": \"my_new_analyzer\"\n",
    "\n",
    "                                                      }}},\n",
    "                           ],\n",
    "                    \n",
    "                }\n",
    "            }\n",
    "        },                  \n",
    "                           )\n",
    "        results = results['hits']['hits'][0:]\n",
    "    \n",
    "    return results"
   ]
  },
  {
   "cell_type": "code",
   "execution_count": 18,
   "metadata": {},
   "outputs": [
    {
     "name": "stdout",
     "output_type": "stream",
     "text": [
      "- Searching for: \" Samsung Galaxi \" in the category: \" Mobiles \".\n",
      "samsung galaxi\n",
      "-  209  results were returned.\n"
     ]
    }
   ],
   "source": [
    "# search 'Samsung Galaxi' products in the category 'Mobiles'\n",
    "query = 'Samsung Galaxi'\n",
    "\n",
    "category = 'Mobiles'\n",
    "\n",
    "print('- Searching for: \"', query, '\" in the category: \"', category, '\".')\n",
    "res = get_results(query, category)\n",
    "\n",
    "print('- ', len(res), ' results were returned.')"
   ]
  },
  {
   "cell_type": "code",
   "execution_count": 19,
   "metadata": {},
   "outputs": [
    {
     "data": {
      "text/plain": [
       "{'_id': '1613',\n",
       " '_index': 'my_new_index',\n",
       " '_score': 11.05337,\n",
       " '_source': {'Category': 'Mobiles',\n",
       "  'Code': 1613,\n",
       "  'Price': 104.3,\n",
       "  'SubCategory': 'Bluetooth',\n",
       "  'title_eng': 'samsung galaxy buds',\n",
       "  'title_init': 'Samsung Galaxy Buds',\n",
       "  'url': 'https://www.bestprice.gr/item/2155532856/samsung-galaxy-buds.html'},\n",
       " '_type': 'product'}"
      ]
     },
     "execution_count": 19,
     "metadata": {},
     "output_type": "execute_result"
    }
   ],
   "source": [
    "# check the first result\n",
    "res[0]"
   ]
  },
  {
   "cell_type": "code",
   "execution_count": 20,
   "metadata": {},
   "outputs": [
    {
     "data": {
      "text/html": [
       "<div>\n",
       "<style scoped>\n",
       "    .dataframe tbody tr th:only-of-type {\n",
       "        vertical-align: middle;\n",
       "    }\n",
       "\n",
       "    .dataframe tbody tr th {\n",
       "        vertical-align: top;\n",
       "    }\n",
       "\n",
       "    .dataframe thead th {\n",
       "        text-align: right;\n",
       "    }\n",
       "</style>\n",
       "<table border=\"1\" class=\"dataframe\">\n",
       "  <thead>\n",
       "    <tr style=\"text-align: right;\">\n",
       "      <th></th>\n",
       "      <th>Category</th>\n",
       "      <th>Code</th>\n",
       "      <th>Price</th>\n",
       "      <th>Product_name</th>\n",
       "      <th>Url</th>\n",
       "      <th>score</th>\n",
       "      <th>title_eng</th>\n",
       "    </tr>\n",
       "  </thead>\n",
       "  <tbody>\n",
       "    <tr>\n",
       "      <th>0</th>\n",
       "      <td>Mobiles</td>\n",
       "      <td>1613</td>\n",
       "      <td>104.30</td>\n",
       "      <td>Samsung Galaxy Buds</td>\n",
       "      <td>https://www.bestprice.gr/item/2155532856/samsu...</td>\n",
       "      <td>11.053370</td>\n",
       "      <td>samsung galaxy buds</td>\n",
       "    </tr>\n",
       "    <tr>\n",
       "      <th>11</th>\n",
       "      <td>Mobiles</td>\n",
       "      <td>23</td>\n",
       "      <td>610.00</td>\n",
       "      <td>Samsung Galaxy S10 512GB Dual</td>\n",
       "      <td>https://www.bestprice.gr/item/2155531586/samsu...</td>\n",
       "      <td>9.965252</td>\n",
       "      <td>samsung galaxy s10 512gb dual</td>\n",
       "    </tr>\n",
       "    <tr>\n",
       "      <th>22</th>\n",
       "      <td>Mobiles</td>\n",
       "      <td>48</td>\n",
       "      <td>610.00</td>\n",
       "      <td>Samsung Galaxy S10 512GB Dual</td>\n",
       "      <td>https://www.bestprice.gr/item/2155531586/samsu...</td>\n",
       "      <td>9.965252</td>\n",
       "      <td>samsung galaxy s10 512gb dual</td>\n",
       "    </tr>\n",
       "    <tr>\n",
       "      <th>33</th>\n",
       "      <td>Mobiles</td>\n",
       "      <td>73</td>\n",
       "      <td>610.00</td>\n",
       "      <td>Samsung Galaxy S10 512GB Dual</td>\n",
       "      <td>https://www.bestprice.gr/item/2155531586/samsu...</td>\n",
       "      <td>9.965252</td>\n",
       "      <td>samsung galaxy s10 512gb dual</td>\n",
       "    </tr>\n",
       "    <tr>\n",
       "      <th>44</th>\n",
       "      <td>Mobiles</td>\n",
       "      <td>98</td>\n",
       "      <td>610.00</td>\n",
       "      <td>Samsung Galaxy S10 512GB Dual</td>\n",
       "      <td>https://www.bestprice.gr/item/2155531586/samsu...</td>\n",
       "      <td>9.965252</td>\n",
       "      <td>samsung galaxy s10 512gb dual</td>\n",
       "    </tr>\n",
       "    <tr>\n",
       "      <th>...</th>\n",
       "      <td>...</td>\n",
       "      <td>...</td>\n",
       "      <td>...</td>\n",
       "      <td>...</td>\n",
       "      <td>...</td>\n",
       "      <td>...</td>\n",
       "      <td>...</td>\n",
       "    </tr>\n",
       "    <tr>\n",
       "      <th>201</th>\n",
       "      <td>Mobiles</td>\n",
       "      <td>4097</td>\n",
       "      <td>3.39</td>\n",
       "      <td>ΦΟΡΤΙΣΤΗΣ ΑΝΑΓΚΗΣ SAMSUNG D820 VOLTE-TEL LIGHT...</td>\n",
       "      <td>https://www.bestprice.gr/item/40719616/fortist...</td>\n",
       "      <td>4.905380</td>\n",
       "      <td>fortisths anagkhs samsung d820 volte-tel light...</td>\n",
       "    </tr>\n",
       "    <tr>\n",
       "      <th>202</th>\n",
       "      <td>Mobiles</td>\n",
       "      <td>4121</td>\n",
       "      <td>3.39</td>\n",
       "      <td>ΦΟΡΤΙΣΤΗΣ ΑΝΑΓΚΗΣ SAMSUNG D820 VOLTE-TEL LIGHT...</td>\n",
       "      <td>https://www.bestprice.gr/item/40719616/fortist...</td>\n",
       "      <td>4.905380</td>\n",
       "      <td>fortisths anagkhs samsung d820 volte-tel light...</td>\n",
       "    </tr>\n",
       "    <tr>\n",
       "      <th>206</th>\n",
       "      <td>Mobiles</td>\n",
       "      <td>1406</td>\n",
       "      <td>39.90</td>\n",
       "      <td>Evelatus Samson Dual</td>\n",
       "      <td>https://www.bestprice.gr/item/2155496477/evela...</td>\n",
       "      <td>4.790743</td>\n",
       "      <td>evelatus samson dual</td>\n",
       "    </tr>\n",
       "    <tr>\n",
       "      <th>207</th>\n",
       "      <td>Mobiles</td>\n",
       "      <td>2230</td>\n",
       "      <td>7.90</td>\n",
       "      <td>S6/S7 ΓΝΗΣΙΑ ΑΚΟΥΣΤΙΚΑ HANDS FREE ΛΕΥΚΑ ΓΙΑ SA...</td>\n",
       "      <td>https://www.bestprice.gr/item/38121745/s6s7-gn...</td>\n",
       "      <td>4.627721</td>\n",
       "      <td>s6/s7 gnhsia akoustika hands free leuka gia sa...</td>\n",
       "    </tr>\n",
       "    <tr>\n",
       "      <th>208</th>\n",
       "      <td>Mobiles</td>\n",
       "      <td>2220</td>\n",
       "      <td>7.50</td>\n",
       "      <td>Hands free for G 600-U 600-D 880 Samsung bulk ...</td>\n",
       "      <td>https://www.bestprice.gr/item/38121742/hands-f...</td>\n",
       "      <td>4.391862</td>\n",
       "      <td>hands free for g 600-u 600-d 880 samsung bulk ...</td>\n",
       "    </tr>\n",
       "  </tbody>\n",
       "</table>\n",
       "<p>209 rows × 7 columns</p>\n",
       "</div>"
      ],
      "text/plain": [
       "    Category  Code   Price                                       Product_name  \\\n",
       "0    Mobiles  1613  104.30                                Samsung Galaxy Buds   \n",
       "11   Mobiles    23  610.00                      Samsung Galaxy S10 512GB Dual   \n",
       "22   Mobiles    48  610.00                      Samsung Galaxy S10 512GB Dual   \n",
       "33   Mobiles    73  610.00                      Samsung Galaxy S10 512GB Dual   \n",
       "44   Mobiles    98  610.00                      Samsung Galaxy S10 512GB Dual   \n",
       "..       ...   ...     ...                                                ...   \n",
       "201  Mobiles  4097    3.39  ΦΟΡΤΙΣΤΗΣ ΑΝΑΓΚΗΣ SAMSUNG D820 VOLTE-TEL LIGHT...   \n",
       "202  Mobiles  4121    3.39  ΦΟΡΤΙΣΤΗΣ ΑΝΑΓΚΗΣ SAMSUNG D820 VOLTE-TEL LIGHT...   \n",
       "206  Mobiles  1406   39.90                               Evelatus Samson Dual   \n",
       "207  Mobiles  2230    7.90  S6/S7 ΓΝΗΣΙΑ ΑΚΟΥΣΤΙΚΑ HANDS FREE ΛΕΥΚΑ ΓΙΑ SA...   \n",
       "208  Mobiles  2220    7.50  Hands free for G 600-U 600-D 880 Samsung bulk ...   \n",
       "\n",
       "                                                   Url      score  \\\n",
       "0    https://www.bestprice.gr/item/2155532856/samsu...  11.053370   \n",
       "11   https://www.bestprice.gr/item/2155531586/samsu...   9.965252   \n",
       "22   https://www.bestprice.gr/item/2155531586/samsu...   9.965252   \n",
       "33   https://www.bestprice.gr/item/2155531586/samsu...   9.965252   \n",
       "44   https://www.bestprice.gr/item/2155531586/samsu...   9.965252   \n",
       "..                                                 ...        ...   \n",
       "201  https://www.bestprice.gr/item/40719616/fortist...   4.905380   \n",
       "202  https://www.bestprice.gr/item/40719616/fortist...   4.905380   \n",
       "206  https://www.bestprice.gr/item/2155496477/evela...   4.790743   \n",
       "207  https://www.bestprice.gr/item/38121745/s6s7-gn...   4.627721   \n",
       "208  https://www.bestprice.gr/item/38121742/hands-f...   4.391862   \n",
       "\n",
       "                                             title_eng  \n",
       "0                                  samsung galaxy buds  \n",
       "11                       samsung galaxy s10 512gb dual  \n",
       "22                       samsung galaxy s10 512gb dual  \n",
       "33                       samsung galaxy s10 512gb dual  \n",
       "44                       samsung galaxy s10 512gb dual  \n",
       "..                                                 ...  \n",
       "201  fortisths anagkhs samsung d820 volte-tel light...  \n",
       "202  fortisths anagkhs samsung d820 volte-tel light...  \n",
       "206                               evelatus samson dual  \n",
       "207  s6/s7 gnhsia akoustika hands free leuka gia sa...  \n",
       "208  hands free for g 600-u 600-d 880 samsung bulk ...  \n",
       "\n",
       "[209 rows x 7 columns]"
      ]
     },
     "execution_count": 20,
     "metadata": {},
     "output_type": "execute_result"
    }
   ],
   "source": [
    "results = []\n",
    "for i in range(len(res)):\n",
    "    #print(res[i]['_source']['title_init']+' - ', res[i]['_source']['Price'])\n",
    "    result = res[i]\n",
    "    \n",
    "    results.append({\n",
    "        'Code':result['_source']['Code'],\n",
    "        'Product_name':result['_source']['title_init'],\n",
    "                   'title_eng':result['_source']['title_eng'],\n",
    "                    'Category':result['_source']['Category'],\n",
    "                    'Price':result['_source']['Price'],\n",
    "                    'score':result['_score'],\n",
    "                    'Url':result['_source']['url'],\n",
    "                   })\n",
    "    \n",
    "df_results = pd.DataFrame(results)\n",
    "\n",
    "if len(df_results) > 0:\n",
    "    # keep only results with relevance score higher that 4\n",
    "    #df_results = df_results[df_results.score>4]\n",
    "    \n",
    "    # sort results based on relevance and Price\n",
    "    df_results = df_results.sort_values(by=['score', 'Price'], ascending=[False, False])\n",
    "    \n",
    "    # search_flag defines whether the results are procuced by elasticsearch or based on popularity\n",
    "    search_flag = 0\n",
    "\n",
    "if len(df_results) == 0:\n",
    "    print('- No results were returned via elasticsearch. So, return popular products.')\n",
    "    df_results = df_products.sort_values(by=['freq'], ascending=[False]).head(30)\n",
    "    #df_results = df_results[['Category', 'Price', 'title_eng', 'title_init']]\n",
    "    \n",
    "    # set the flag==1 - the resutls are produced based on popularity\n",
    "    search_flag = 1\n",
    "    \n",
    "#print(search_flag)\n",
    "\n",
    "# print the dataframe with the results\n",
    "df_results"
   ]
  },
  {
   "cell_type": "code",
   "execution_count": null,
   "metadata": {},
   "outputs": [],
   "source": []
  }
 ],
 "metadata": {
  "hide_input": false,
  "kernelspec": {
   "display_name": "Python 3",
   "language": "python",
   "name": "python3"
  },
  "language_info": {
   "codemirror_mode": {
    "name": "ipython",
    "version": 3
   },
   "file_extension": ".py",
   "mimetype": "text/x-python",
   "name": "python",
   "nbconvert_exporter": "python",
   "pygments_lexer": "ipython3",
   "version": "3.6.3"
  }
 },
 "nbformat": 4,
 "nbformat_minor": 2
}
